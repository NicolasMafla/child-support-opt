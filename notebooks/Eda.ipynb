{
 "cells": [
  {
   "cell_type": "code",
   "execution_count": 1,
   "id": "2d46c2c2-da9e-4d57-9a5f-70c1ec952619",
   "metadata": {},
   "outputs": [
    {
     "name": "stdout",
     "output_type": "stream",
     "text": [
      "F:\\python-projects\\child-support-opt\\notebooks\n",
      "F:\\python-projects\\child-support-opt\n"
     ]
    }
   ],
   "source": [
    "import os\n",
    "print(os.getcwd())\n",
    "os.chdir(\"..\")\n",
    "print(os.getcwd())"
   ]
  },
  {
   "cell_type": "code",
   "execution_count": 2,
   "id": "a48b8db6-64d7-45b1-a5ad-6146ee573325",
   "metadata": {},
   "outputs": [],
   "source": [
    "from src.utils import money_to_float"
   ]
  },
  {
   "cell_type": "code",
   "execution_count": 3,
   "id": "da210ad2-8a84-4105-817f-21b6c03f448a",
   "metadata": {},
   "outputs": [
    {
     "data": {
      "text/plain": [
       "4500.12"
      ]
     },
     "execution_count": 3,
     "metadata": {},
     "output_type": "execute_result"
    }
   ],
   "source": [
    "money_to_float(value=\"4,500.12\")"
   ]
  },
  {
   "cell_type": "code",
   "execution_count": null,
   "id": "2eb1e14f-04c9-4df9-bbca-455ab1f8330a",
   "metadata": {},
   "outputs": [],
   "source": []
  }
 ],
 "metadata": {
  "kernelspec": {
   "display_name": "Python 3 (ipykernel)",
   "language": "python",
   "name": "python3"
  },
  "language_info": {
   "codemirror_mode": {
    "name": "ipython",
    "version": 3
   },
   "file_extension": ".py",
   "mimetype": "text/x-python",
   "name": "python",
   "nbconvert_exporter": "python",
   "pygments_lexer": "ipython3",
   "version": "3.10.16"
  }
 },
 "nbformat": 4,
 "nbformat_minor": 5
}
