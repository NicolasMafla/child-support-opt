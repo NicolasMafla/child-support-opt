{
 "cells": [
  {
   "cell_type": "code",
   "execution_count": 1,
   "id": "a7972c9c-de0b-4193-8f0e-9a69e9b00946",
   "metadata": {},
   "outputs": [
    {
     "name": "stdout",
     "output_type": "stream",
     "text": [
      "F:\\python-projects\\child-support-opt\n"
     ]
    }
   ],
   "source": [
    "import os\n",
    "import pandas as pd\n",
    "\n",
    "os.chdir(\"..\")\n",
    "print(os.getcwd())\n",
    "pd.options.display.max_rows = None"
   ]
  },
  {
   "cell_type": "code",
   "execution_count": 21,
   "id": "ec965023-589c-4bd0-a552-bf8c431b72fa",
   "metadata": {},
   "outputs": [],
   "source": [
    "fcp = \"EC0182\"\n",
    "month = \"m1\""
   ]
  },
  {
   "cell_type": "code",
   "execution_count": 22,
   "id": "f380f8ea-b1b5-4fcd-b75f-488635e05f2a",
   "metadata": {},
   "outputs": [
    {
     "data": {
      "text/html": [
       "<div>\n",
       "<style scoped>\n",
       "    .dataframe tbody tr th:only-of-type {\n",
       "        vertical-align: middle;\n",
       "    }\n",
       "\n",
       "    .dataframe tbody tr th {\n",
       "        vertical-align: top;\n",
       "    }\n",
       "\n",
       "    .dataframe thead th {\n",
       "        text-align: right;\n",
       "    }\n",
       "</style>\n",
       "<table border=\"1\" class=\"dataframe\">\n",
       "  <thead>\n",
       "    <tr style=\"text-align: right;\">\n",
       "      <th></th>\n",
       "      <th>account</th>\n",
       "      <th>description</th>\n",
       "      <th>before</th>\n",
       "      <th>debe</th>\n",
       "      <th>haber</th>\n",
       "      <th>diff</th>\n",
       "      <th>month</th>\n",
       "      <th>fcpId</th>\n",
       "    </tr>\n",
       "  </thead>\n",
       "  <tbody>\n",
       "    <tr>\n",
       "      <th>0</th>\n",
       "      <td>1</td>\n",
       "      <td>ACTIVO TOTAL DE LA FCP</td>\n",
       "      <td>6071.94</td>\n",
       "      <td>3835.71</td>\n",
       "      <td>3890.94</td>\n",
       "      <td>6016.71</td>\n",
       "      <td>m1</td>\n",
       "      <td>EC0107</td>\n",
       "    </tr>\n",
       "    <tr>\n",
       "      <th>1</th>\n",
       "      <td>11</td>\n",
       "      <td>ACTIVO CORRIENTE</td>\n",
       "      <td>3073.11</td>\n",
       "      <td>3835.71</td>\n",
       "      <td>3849.97</td>\n",
       "      <td>3058.85</td>\n",
       "      <td>m1</td>\n",
       "      <td>EC0107</td>\n",
       "    </tr>\n",
       "    <tr>\n",
       "      <th>2</th>\n",
       "      <td>111</td>\n",
       "      <td>ACTIVO DISPONIBLE</td>\n",
       "      <td>3001.43</td>\n",
       "      <td>3835.71</td>\n",
       "      <td>3849.97</td>\n",
       "      <td>2987.17</td>\n",
       "      <td>m1</td>\n",
       "      <td>EC0107</td>\n",
       "    </tr>\n",
       "    <tr>\n",
       "      <th>3</th>\n",
       "      <td>11101</td>\n",
       "      <td>Caja - PATROCINIO</td>\n",
       "      <td>76.67</td>\n",
       "      <td>1700.19</td>\n",
       "      <td>1758.97</td>\n",
       "      <td>17.89</td>\n",
       "      <td>m1</td>\n",
       "      <td>EC0107</td>\n",
       "    </tr>\n",
       "    <tr>\n",
       "      <th>4</th>\n",
       "      <td>11102</td>\n",
       "      <td>Cuenta bancaria - PATROCINIO</td>\n",
       "      <td>2924.76</td>\n",
       "      <td>2135.52</td>\n",
       "      <td>2091.00</td>\n",
       "      <td>2969.28</td>\n",
       "      <td>m1</td>\n",
       "      <td>EC0107</td>\n",
       "    </tr>\n",
       "  </tbody>\n",
       "</table>\n",
       "</div>"
      ],
      "text/plain": [
       "  account                   description   before     debe    haber     diff  \\\n",
       "0       1        ACTIVO TOTAL DE LA FCP  6071.94  3835.71  3890.94  6016.71   \n",
       "1      11              ACTIVO CORRIENTE  3073.11  3835.71  3849.97  3058.85   \n",
       "2     111             ACTIVO DISPONIBLE  3001.43  3835.71  3849.97  2987.17   \n",
       "3   11101             Caja - PATROCINIO    76.67  1700.19  1758.97    17.89   \n",
       "4   11102  Cuenta bancaria - PATROCINIO  2924.76  2135.52  2091.00  2969.28   \n",
       "\n",
       "  month   fcpId  \n",
       "0    m1  EC0107  \n",
       "1    m1  EC0107  \n",
       "2    m1  EC0107  \n",
       "3    m1  EC0107  \n",
       "4    m1  EC0107  "
      ]
     },
     "execution_count": 22,
     "metadata": {},
     "output_type": "execute_result"
    }
   ],
   "source": [
    "balance = pd.read_excel(\"data/processed/final/balance.xlsx\")\n",
    "balance[\"account\"] = balance[\"account\"].astype(str)\n",
    "balance.head(5)"
   ]
  },
  {
   "cell_type": "code",
   "execution_count": 23,
   "id": "174db7ad-ed5b-42e4-91be-91a6fc305e20",
   "metadata": {},
   "outputs": [
    {
     "data": {
      "text/html": [
       "<div>\n",
       "<style scoped>\n",
       "    .dataframe tbody tr th:only-of-type {\n",
       "        vertical-align: middle;\n",
       "    }\n",
       "\n",
       "    .dataframe tbody tr th {\n",
       "        vertical-align: top;\n",
       "    }\n",
       "\n",
       "    .dataframe thead th {\n",
       "        text-align: right;\n",
       "    }\n",
       "</style>\n",
       "<table border=\"1\" class=\"dataframe\">\n",
       "  <thead>\n",
       "    <tr style=\"text-align: right;\">\n",
       "      <th></th>\n",
       "      <th>account</th>\n",
       "      <th>description</th>\n",
       "      <th>haber</th>\n",
       "    </tr>\n",
       "  </thead>\n",
       "  <tbody>\n",
       "    <tr>\n",
       "      <th>43885</th>\n",
       "      <td>4</td>\n",
       "      <td>INGRESO TOTAL DE LA FCP</td>\n",
       "      <td>7682.8</td>\n",
       "    </tr>\n",
       "  </tbody>\n",
       "</table>\n",
       "</div>"
      ],
      "text/plain": [
       "      account              description   haber\n",
       "43885       4  INGRESO TOTAL DE LA FCP  7682.8"
      ]
     },
     "execution_count": 23,
     "metadata": {},
     "output_type": "execute_result"
    }
   ],
   "source": [
    "income = balance[\n",
    "    (balance[\"fcpId\"] == fcp) & (balance[\"month\"] == month) & (balance[\"account\"] == \"4\")\n",
    "].copy()\n",
    "income = income[[\"account\", \"description\", \"haber\"]]\n",
    "income"
   ]
  },
  {
   "cell_type": "code",
   "execution_count": 24,
   "id": "659b8598-669b-4987-b1ea-2849cf4da0a0",
   "metadata": {},
   "outputs": [
    {
     "data": {
      "text/html": [
       "<div>\n",
       "<style scoped>\n",
       "    .dataframe tbody tr th:only-of-type {\n",
       "        vertical-align: middle;\n",
       "    }\n",
       "\n",
       "    .dataframe tbody tr th {\n",
       "        vertical-align: top;\n",
       "    }\n",
       "\n",
       "    .dataframe thead th {\n",
       "        text-align: right;\n",
       "    }\n",
       "</style>\n",
       "<table border=\"1\" class=\"dataframe\">\n",
       "  <thead>\n",
       "    <tr style=\"text-align: right;\">\n",
       "      <th></th>\n",
       "      <th>account</th>\n",
       "      <th>description</th>\n",
       "      <th>debe</th>\n",
       "    </tr>\n",
       "  </thead>\n",
       "  <tbody>\n",
       "    <tr>\n",
       "      <th>43924</th>\n",
       "      <td>5</td>\n",
       "      <td>GASTO TOTAL DE LA FCP</td>\n",
       "      <td>5787.51</td>\n",
       "    </tr>\n",
       "  </tbody>\n",
       "</table>\n",
       "</div>"
      ],
      "text/plain": [
       "      account            description     debe\n",
       "43924       5  GASTO TOTAL DE LA FCP  5787.51"
      ]
     },
     "execution_count": 24,
     "metadata": {},
     "output_type": "execute_result"
    }
   ],
   "source": [
    "expenses = balance[\n",
    "    (balance[\"fcpId\"] == fcp) & (balance[\"month\"] == month) & (balance[\"account\"] == \"5\")\n",
    "].copy()\n",
    "expenses = expenses[[\"account\", \"description\", \"debe\"]]\n",
    "expenses"
   ]
  },
  {
   "cell_type": "code",
   "execution_count": 25,
   "id": "5e74ff4b-4cb8-4aa9-b5d9-1301ef5a7ffc",
   "metadata": {},
   "outputs": [
    {
     "data": {
      "text/html": [
       "<div>\n",
       "<style scoped>\n",
       "    .dataframe tbody tr th:only-of-type {\n",
       "        vertical-align: middle;\n",
       "    }\n",
       "\n",
       "    .dataframe tbody tr th {\n",
       "        vertical-align: top;\n",
       "    }\n",
       "\n",
       "    .dataframe thead th {\n",
       "        text-align: right;\n",
       "    }\n",
       "</style>\n",
       "<table border=\"1\" class=\"dataframe\">\n",
       "  <thead>\n",
       "    <tr style=\"text-align: right;\">\n",
       "      <th></th>\n",
       "      <th>activity</th>\n",
       "      <th>group</th>\n",
       "      <th>account</th>\n",
       "      <th>fcpId</th>\n",
       "      <th>month</th>\n",
       "      <th>value</th>\n",
       "    </tr>\n",
       "  </thead>\n",
       "  <tbody>\n",
       "    <tr>\n",
       "      <th>0</th>\n",
       "      <td>OFRENDA PASTOR</td>\n",
       "      <td>Todos\\All</td>\n",
       "      <td>51301</td>\n",
       "      <td>EC0107</td>\n",
       "      <td>m1</td>\n",
       "      <td>110.0</td>\n",
       "    </tr>\n",
       "    <tr>\n",
       "      <th>1</th>\n",
       "      <td>TALLERES  DE EVANGELISMO,  DISCIPULADO  Y  CON...</td>\n",
       "      <td>Todos\\All</td>\n",
       "      <td>51304</td>\n",
       "      <td>EC0107</td>\n",
       "      <td>m1</td>\n",
       "      <td>0.0</td>\n",
       "    </tr>\n",
       "    <tr>\n",
       "      <th>2</th>\n",
       "      <td>MATERIALES PARA ACTIVIDADES  ESPIRITUALES</td>\n",
       "      <td>Todos\\All</td>\n",
       "      <td>51303</td>\n",
       "      <td>EC0107</td>\n",
       "      <td>m1</td>\n",
       "      <td>0.0</td>\n",
       "    </tr>\n",
       "    <tr>\n",
       "      <th>3</th>\n",
       "      <td>CAMPAMENTO EVANGELISTICO</td>\n",
       "      <td>Todos\\All</td>\n",
       "      <td>51304</td>\n",
       "      <td>EC0107</td>\n",
       "      <td>m1</td>\n",
       "      <td>50.0</td>\n",
       "    </tr>\n",
       "    <tr>\n",
       "      <th>4</th>\n",
       "      <td>TUTOR VOLUNTARIOS 1</td>\n",
       "      <td>Todos\\All</td>\n",
       "      <td>51101</td>\n",
       "      <td>EC0107</td>\n",
       "      <td>m1</td>\n",
       "      <td>280.0</td>\n",
       "    </tr>\n",
       "  </tbody>\n",
       "</table>\n",
       "</div>"
      ],
      "text/plain": [
       "                                            activity      group account  \\\n",
       "0                                    OFRENDA PASTOR   Todos\\All   51301   \n",
       "1  TALLERES  DE EVANGELISMO,  DISCIPULADO  Y  CON...  Todos\\All   51304   \n",
       "2        MATERIALES PARA ACTIVIDADES  ESPIRITUALES    Todos\\All   51303   \n",
       "3                          CAMPAMENTO EVANGELISTICO   Todos\\All   51304   \n",
       "4                                TUTOR VOLUNTARIOS 1  Todos\\All   51101   \n",
       "\n",
       "    fcpId month  value  \n",
       "0  EC0107    m1  110.0  \n",
       "1  EC0107    m1    0.0  \n",
       "2  EC0107    m1    0.0  \n",
       "3  EC0107    m1   50.0  \n",
       "4  EC0107    m1  280.0  "
      ]
     },
     "execution_count": 25,
     "metadata": {},
     "output_type": "execute_result"
    }
   ],
   "source": [
    "poa = pd.read_excel(\"data/processed/final/poa.xlsx\")\n",
    "poa[\"account\"] = poa[\"account\"].astype(str)\n",
    "poa.head(5)"
   ]
  },
  {
   "cell_type": "code",
   "execution_count": 30,
   "id": "229dc25c-5f95-46a9-b31e-284892f4f66a",
   "metadata": {},
   "outputs": [
    {
     "name": "stdout",
     "output_type": "stream",
     "text": [
      "6848.0\n"
     ]
    }
   ],
   "source": [
    "proyected = poa[\n",
    "    (poa[\"fcpId\"] == fcp) & (poa[\"month\"] == month) & (poa[\"account\"].str.startswith(\"5\"))\n",
    "].copy()\n",
    "proyected = proyected[[\"account\", \"activity\", \"value\"]]\n",
    "print(proyected[\"value\"].sum())"
   ]
  },
  {
   "cell_type": "code",
   "execution_count": null,
   "id": "7851e50f-0c03-49a6-93b8-4902f3db61dc",
   "metadata": {},
   "outputs": [],
   "source": []
  }
 ],
 "metadata": {
  "kernelspec": {
   "display_name": "Python 3 (ipykernel)",
   "language": "python",
   "name": "python3"
  },
  "language_info": {
   "codemirror_mode": {
    "name": "ipython",
    "version": 3
   },
   "file_extension": ".py",
   "mimetype": "text/x-python",
   "name": "python",
   "nbconvert_exporter": "python",
   "pygments_lexer": "ipython3",
   "version": "3.10.16"
  }
 },
 "nbformat": 4,
 "nbformat_minor": 5
}
