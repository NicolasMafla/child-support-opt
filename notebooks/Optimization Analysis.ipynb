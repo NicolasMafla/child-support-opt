{
 "cells": [
  {
   "cell_type": "code",
   "execution_count": 1,
   "id": "a7972c9c-de0b-4193-8f0e-9a69e9b00946",
   "metadata": {},
   "outputs": [
    {
     "name": "stdout",
     "output_type": "stream",
     "text": [
      "F:\\python-projects\\child-support-opt\n"
     ]
    }
   ],
   "source": [
    "import os\n",
    "import seaborn as sns\n",
    "import pandas as pd\n",
    "import matplotlib.pyplot as plt\n",
    "\n",
    "os.chdir(\"..\")\n",
    "print(os.getcwd())\n",
    "pd.options.display.max_rows = None"
   ]
  },
  {
   "cell_type": "markdown",
   "id": "af5bab1f-bfde-41b5-b227-b8743c4e3bd8",
   "metadata": {
    "jp-MarkdownHeadingCollapsed": true
   },
   "source": [
    "# inicial"
   ]
  },
  {
   "cell_type": "code",
   "execution_count": 21,
   "id": "ec965023-589c-4bd0-a552-bf8c431b72fa",
   "metadata": {},
   "outputs": [],
   "source": [
    "fcp = \"EC0182\"\n",
    "month = \"m1\""
   ]
  },
  {
   "cell_type": "code",
   "execution_count": 22,
   "id": "f380f8ea-b1b5-4fcd-b75f-488635e05f2a",
   "metadata": {},
   "outputs": [
    {
     "data": {
      "text/html": [
       "<div>\n",
       "<style scoped>\n",
       "    .dataframe tbody tr th:only-of-type {\n",
       "        vertical-align: middle;\n",
       "    }\n",
       "\n",
       "    .dataframe tbody tr th {\n",
       "        vertical-align: top;\n",
       "    }\n",
       "\n",
       "    .dataframe thead th {\n",
       "        text-align: right;\n",
       "    }\n",
       "</style>\n",
       "<table border=\"1\" class=\"dataframe\">\n",
       "  <thead>\n",
       "    <tr style=\"text-align: right;\">\n",
       "      <th></th>\n",
       "      <th>account</th>\n",
       "      <th>description</th>\n",
       "      <th>before</th>\n",
       "      <th>debe</th>\n",
       "      <th>haber</th>\n",
       "      <th>diff</th>\n",
       "      <th>month</th>\n",
       "      <th>fcpId</th>\n",
       "    </tr>\n",
       "  </thead>\n",
       "  <tbody>\n",
       "    <tr>\n",
       "      <th>0</th>\n",
       "      <td>1</td>\n",
       "      <td>ACTIVO TOTAL DE LA FCP</td>\n",
       "      <td>6071.94</td>\n",
       "      <td>3835.71</td>\n",
       "      <td>3890.94</td>\n",
       "      <td>6016.71</td>\n",
       "      <td>m1</td>\n",
       "      <td>EC0107</td>\n",
       "    </tr>\n",
       "    <tr>\n",
       "      <th>1</th>\n",
       "      <td>11</td>\n",
       "      <td>ACTIVO CORRIENTE</td>\n",
       "      <td>3073.11</td>\n",
       "      <td>3835.71</td>\n",
       "      <td>3849.97</td>\n",
       "      <td>3058.85</td>\n",
       "      <td>m1</td>\n",
       "      <td>EC0107</td>\n",
       "    </tr>\n",
       "    <tr>\n",
       "      <th>2</th>\n",
       "      <td>111</td>\n",
       "      <td>ACTIVO DISPONIBLE</td>\n",
       "      <td>3001.43</td>\n",
       "      <td>3835.71</td>\n",
       "      <td>3849.97</td>\n",
       "      <td>2987.17</td>\n",
       "      <td>m1</td>\n",
       "      <td>EC0107</td>\n",
       "    </tr>\n",
       "    <tr>\n",
       "      <th>3</th>\n",
       "      <td>11101</td>\n",
       "      <td>Caja - PATROCINIO</td>\n",
       "      <td>76.67</td>\n",
       "      <td>1700.19</td>\n",
       "      <td>1758.97</td>\n",
       "      <td>17.89</td>\n",
       "      <td>m1</td>\n",
       "      <td>EC0107</td>\n",
       "    </tr>\n",
       "    <tr>\n",
       "      <th>4</th>\n",
       "      <td>11102</td>\n",
       "      <td>Cuenta bancaria - PATROCINIO</td>\n",
       "      <td>2924.76</td>\n",
       "      <td>2135.52</td>\n",
       "      <td>2091.00</td>\n",
       "      <td>2969.28</td>\n",
       "      <td>m1</td>\n",
       "      <td>EC0107</td>\n",
       "    </tr>\n",
       "  </tbody>\n",
       "</table>\n",
       "</div>"
      ],
      "text/plain": [
       "  account                   description   before     debe    haber     diff  \\\n",
       "0       1        ACTIVO TOTAL DE LA FCP  6071.94  3835.71  3890.94  6016.71   \n",
       "1      11              ACTIVO CORRIENTE  3073.11  3835.71  3849.97  3058.85   \n",
       "2     111             ACTIVO DISPONIBLE  3001.43  3835.71  3849.97  2987.17   \n",
       "3   11101             Caja - PATROCINIO    76.67  1700.19  1758.97    17.89   \n",
       "4   11102  Cuenta bancaria - PATROCINIO  2924.76  2135.52  2091.00  2969.28   \n",
       "\n",
       "  month   fcpId  \n",
       "0    m1  EC0107  \n",
       "1    m1  EC0107  \n",
       "2    m1  EC0107  \n",
       "3    m1  EC0107  \n",
       "4    m1  EC0107  "
      ]
     },
     "execution_count": 22,
     "metadata": {},
     "output_type": "execute_result"
    }
   ],
   "source": [
    "balance = pd.read_excel(\"data/processed/final/balance.xlsx\")\n",
    "balance[\"account\"] = balance[\"account\"].astype(str)\n",
    "balance.head(5)"
   ]
  },
  {
   "cell_type": "code",
   "execution_count": 23,
   "id": "174db7ad-ed5b-42e4-91be-91a6fc305e20",
   "metadata": {},
   "outputs": [
    {
     "data": {
      "text/html": [
       "<div>\n",
       "<style scoped>\n",
       "    .dataframe tbody tr th:only-of-type {\n",
       "        vertical-align: middle;\n",
       "    }\n",
       "\n",
       "    .dataframe tbody tr th {\n",
       "        vertical-align: top;\n",
       "    }\n",
       "\n",
       "    .dataframe thead th {\n",
       "        text-align: right;\n",
       "    }\n",
       "</style>\n",
       "<table border=\"1\" class=\"dataframe\">\n",
       "  <thead>\n",
       "    <tr style=\"text-align: right;\">\n",
       "      <th></th>\n",
       "      <th>account</th>\n",
       "      <th>description</th>\n",
       "      <th>haber</th>\n",
       "    </tr>\n",
       "  </thead>\n",
       "  <tbody>\n",
       "    <tr>\n",
       "      <th>43885</th>\n",
       "      <td>4</td>\n",
       "      <td>INGRESO TOTAL DE LA FCP</td>\n",
       "      <td>7682.8</td>\n",
       "    </tr>\n",
       "  </tbody>\n",
       "</table>\n",
       "</div>"
      ],
      "text/plain": [
       "      account              description   haber\n",
       "43885       4  INGRESO TOTAL DE LA FCP  7682.8"
      ]
     },
     "execution_count": 23,
     "metadata": {},
     "output_type": "execute_result"
    }
   ],
   "source": [
    "income = balance[\n",
    "    (balance[\"fcpId\"] == fcp) & (balance[\"month\"] == month) & (balance[\"account\"] == \"4\")\n",
    "].copy()\n",
    "income = income[[\"account\", \"description\", \"haber\"]]\n",
    "income"
   ]
  },
  {
   "cell_type": "code",
   "execution_count": 24,
   "id": "659b8598-669b-4987-b1ea-2849cf4da0a0",
   "metadata": {},
   "outputs": [
    {
     "data": {
      "text/html": [
       "<div>\n",
       "<style scoped>\n",
       "    .dataframe tbody tr th:only-of-type {\n",
       "        vertical-align: middle;\n",
       "    }\n",
       "\n",
       "    .dataframe tbody tr th {\n",
       "        vertical-align: top;\n",
       "    }\n",
       "\n",
       "    .dataframe thead th {\n",
       "        text-align: right;\n",
       "    }\n",
       "</style>\n",
       "<table border=\"1\" class=\"dataframe\">\n",
       "  <thead>\n",
       "    <tr style=\"text-align: right;\">\n",
       "      <th></th>\n",
       "      <th>account</th>\n",
       "      <th>description</th>\n",
       "      <th>debe</th>\n",
       "    </tr>\n",
       "  </thead>\n",
       "  <tbody>\n",
       "    <tr>\n",
       "      <th>43924</th>\n",
       "      <td>5</td>\n",
       "      <td>GASTO TOTAL DE LA FCP</td>\n",
       "      <td>5787.51</td>\n",
       "    </tr>\n",
       "  </tbody>\n",
       "</table>\n",
       "</div>"
      ],
      "text/plain": [
       "      account            description     debe\n",
       "43924       5  GASTO TOTAL DE LA FCP  5787.51"
      ]
     },
     "execution_count": 24,
     "metadata": {},
     "output_type": "execute_result"
    }
   ],
   "source": [
    "expenses = balance[\n",
    "    (balance[\"fcpId\"] == fcp) & (balance[\"month\"] == month) & (balance[\"account\"] == \"5\")\n",
    "].copy()\n",
    "expenses = expenses[[\"account\", \"description\", \"debe\"]]\n",
    "expenses"
   ]
  },
  {
   "cell_type": "code",
   "execution_count": 25,
   "id": "5e74ff4b-4cb8-4aa9-b5d9-1301ef5a7ffc",
   "metadata": {},
   "outputs": [
    {
     "data": {
      "text/html": [
       "<div>\n",
       "<style scoped>\n",
       "    .dataframe tbody tr th:only-of-type {\n",
       "        vertical-align: middle;\n",
       "    }\n",
       "\n",
       "    .dataframe tbody tr th {\n",
       "        vertical-align: top;\n",
       "    }\n",
       "\n",
       "    .dataframe thead th {\n",
       "        text-align: right;\n",
       "    }\n",
       "</style>\n",
       "<table border=\"1\" class=\"dataframe\">\n",
       "  <thead>\n",
       "    <tr style=\"text-align: right;\">\n",
       "      <th></th>\n",
       "      <th>activity</th>\n",
       "      <th>group</th>\n",
       "      <th>account</th>\n",
       "      <th>fcpId</th>\n",
       "      <th>month</th>\n",
       "      <th>value</th>\n",
       "    </tr>\n",
       "  </thead>\n",
       "  <tbody>\n",
       "    <tr>\n",
       "      <th>0</th>\n",
       "      <td>OFRENDA PASTOR</td>\n",
       "      <td>Todos\\All</td>\n",
       "      <td>51301</td>\n",
       "      <td>EC0107</td>\n",
       "      <td>m1</td>\n",
       "      <td>110.0</td>\n",
       "    </tr>\n",
       "    <tr>\n",
       "      <th>1</th>\n",
       "      <td>TALLERES  DE EVANGELISMO,  DISCIPULADO  Y  CON...</td>\n",
       "      <td>Todos\\All</td>\n",
       "      <td>51304</td>\n",
       "      <td>EC0107</td>\n",
       "      <td>m1</td>\n",
       "      <td>0.0</td>\n",
       "    </tr>\n",
       "    <tr>\n",
       "      <th>2</th>\n",
       "      <td>MATERIALES PARA ACTIVIDADES  ESPIRITUALES</td>\n",
       "      <td>Todos\\All</td>\n",
       "      <td>51303</td>\n",
       "      <td>EC0107</td>\n",
       "      <td>m1</td>\n",
       "      <td>0.0</td>\n",
       "    </tr>\n",
       "    <tr>\n",
       "      <th>3</th>\n",
       "      <td>CAMPAMENTO EVANGELISTICO</td>\n",
       "      <td>Todos\\All</td>\n",
       "      <td>51304</td>\n",
       "      <td>EC0107</td>\n",
       "      <td>m1</td>\n",
       "      <td>50.0</td>\n",
       "    </tr>\n",
       "    <tr>\n",
       "      <th>4</th>\n",
       "      <td>TUTOR VOLUNTARIOS 1</td>\n",
       "      <td>Todos\\All</td>\n",
       "      <td>51101</td>\n",
       "      <td>EC0107</td>\n",
       "      <td>m1</td>\n",
       "      <td>280.0</td>\n",
       "    </tr>\n",
       "  </tbody>\n",
       "</table>\n",
       "</div>"
      ],
      "text/plain": [
       "                                            activity      group account  \\\n",
       "0                                    OFRENDA PASTOR   Todos\\All   51301   \n",
       "1  TALLERES  DE EVANGELISMO,  DISCIPULADO  Y  CON...  Todos\\All   51304   \n",
       "2        MATERIALES PARA ACTIVIDADES  ESPIRITUALES    Todos\\All   51303   \n",
       "3                          CAMPAMENTO EVANGELISTICO   Todos\\All   51304   \n",
       "4                                TUTOR VOLUNTARIOS 1  Todos\\All   51101   \n",
       "\n",
       "    fcpId month  value  \n",
       "0  EC0107    m1  110.0  \n",
       "1  EC0107    m1    0.0  \n",
       "2  EC0107    m1    0.0  \n",
       "3  EC0107    m1   50.0  \n",
       "4  EC0107    m1  280.0  "
      ]
     },
     "execution_count": 25,
     "metadata": {},
     "output_type": "execute_result"
    }
   ],
   "source": [
    "poa = pd.read_excel(\"data/processed/final/poa.xlsx\")\n",
    "poa[\"account\"] = poa[\"account\"].astype(str)\n",
    "poa.head(5)"
   ]
  },
  {
   "cell_type": "code",
   "execution_count": 30,
   "id": "229dc25c-5f95-46a9-b31e-284892f4f66a",
   "metadata": {},
   "outputs": [
    {
     "name": "stdout",
     "output_type": "stream",
     "text": [
      "6848.0\n"
     ]
    }
   ],
   "source": [
    "proyected = poa[\n",
    "    (poa[\"fcpId\"] == fcp) & (poa[\"month\"] == month) & (poa[\"account\"].str.startswith(\"5\"))\n",
    "].copy()\n",
    "proyected = proyected[[\"account\", \"activity\", \"value\"]]\n",
    "print(proyected[\"value\"].sum())"
   ]
  },
  {
   "cell_type": "markdown",
   "id": "2b47bd11-0e39-45b9-8955-427cf5632777",
   "metadata": {},
   "source": [
    "# otro"
   ]
  },
  {
   "cell_type": "code",
   "execution_count": 18,
   "id": "2d28b448-522f-4be5-99af-eb3f6ec6e4a8",
   "metadata": {},
   "outputs": [],
   "source": [
    "results = pd.read_excel(\"data/processed/final/solutions.xlsx\")\n",
    "results[\"diff\"] = results[\"opt_kids\"] - results[\"current_kids\"]\n",
    "# results = results[(results[\"diff\"] <= 50) & (results[\"diff\"] >= -200)]\n",
    "results = results.sort_values(by=\"diff\")\n",
    "colors = ['positivo' if x > 0 else 'negativo' for x in results['diff']]\n",
    "results['diff_sign'] = colors\n",
    "results[\"diferencia\"] = abs(results[\"diff\"])"
   ]
  },
  {
   "cell_type": "code",
   "execution_count": 19,
   "id": "346d8c1f-dc74-424f-bcce-232ddbc2cec2",
   "metadata": {},
   "outputs": [
    {
     "data": {
      "text/html": [
       "<div>\n",
       "<style scoped>\n",
       "    .dataframe tbody tr th:only-of-type {\n",
       "        vertical-align: middle;\n",
       "    }\n",
       "\n",
       "    .dataframe tbody tr th {\n",
       "        vertical-align: top;\n",
       "    }\n",
       "\n",
       "    .dataframe thead th {\n",
       "        text-align: right;\n",
       "    }\n",
       "</style>\n",
       "<table border=\"1\" class=\"dataframe\">\n",
       "  <thead>\n",
       "    <tr style=\"text-align: right;\">\n",
       "      <th></th>\n",
       "      <th>fcp</th>\n",
       "      <th>budget</th>\n",
       "      <th>current_kids</th>\n",
       "      <th>opt_kids</th>\n",
       "      <th>expenses</th>\n",
       "      <th>opt_expenses</th>\n",
       "      <th>diff</th>\n",
       "      <th>diff_sign</th>\n",
       "      <th>diferencia</th>\n",
       "    </tr>\n",
       "  </thead>\n",
       "  <tbody>\n",
       "    <tr>\n",
       "      <th>28</th>\n",
       "      <td>EC0261</td>\n",
       "      <td>490745.46</td>\n",
       "      <td>1564</td>\n",
       "      <td>1000</td>\n",
       "      <td>445228.26</td>\n",
       "      <td>284672.800512</td>\n",
       "      <td>-564</td>\n",
       "      <td>negativo</td>\n",
       "      <td>564</td>\n",
       "    </tr>\n",
       "    <tr>\n",
       "      <th>22</th>\n",
       "      <td>EC0226</td>\n",
       "      <td>35722.20</td>\n",
       "      <td>769</td>\n",
       "      <td>712</td>\n",
       "      <td>36640.11</td>\n",
       "      <td>33924.263095</td>\n",
       "      <td>-57</td>\n",
       "      <td>negativo</td>\n",
       "      <td>57</td>\n",
       "    </tr>\n",
       "    <tr>\n",
       "      <th>10</th>\n",
       "      <td>EC0150</td>\n",
       "      <td>83006.09</td>\n",
       "      <td>204</td>\n",
       "      <td>162</td>\n",
       "      <td>98884.97</td>\n",
       "      <td>78526.299706</td>\n",
       "      <td>-42</td>\n",
       "      <td>negativo</td>\n",
       "      <td>42</td>\n",
       "    </tr>\n",
       "    <tr>\n",
       "      <th>20</th>\n",
       "      <td>EC0183</td>\n",
       "      <td>186628.47</td>\n",
       "      <td>644</td>\n",
       "      <td>605</td>\n",
       "      <td>188662.35</td>\n",
       "      <td>177237.145575</td>\n",
       "      <td>-39</td>\n",
       "      <td>negativo</td>\n",
       "      <td>39</td>\n",
       "    </tr>\n",
       "    <tr>\n",
       "      <th>11</th>\n",
       "      <td>EC0151</td>\n",
       "      <td>120995.07</td>\n",
       "      <td>361</td>\n",
       "      <td>326</td>\n",
       "      <td>127188.04</td>\n",
       "      <td>114856.789584</td>\n",
       "      <td>-35</td>\n",
       "      <td>negativo</td>\n",
       "      <td>35</td>\n",
       "    </tr>\n",
       "  </tbody>\n",
       "</table>\n",
       "</div>"
      ],
      "text/plain": [
       "       fcp     budget  current_kids  opt_kids   expenses   opt_expenses  diff  \\\n",
       "28  EC0261  490745.46          1564      1000  445228.26  284672.800512  -564   \n",
       "22  EC0226   35722.20           769       712   36640.11   33924.263095   -57   \n",
       "10  EC0150   83006.09           204       162   98884.97   78526.299706   -42   \n",
       "20  EC0183  186628.47           644       605  188662.35  177237.145575   -39   \n",
       "11  EC0151  120995.07           361       326  127188.04  114856.789584   -35   \n",
       "\n",
       "   diff_sign  diferencia  \n",
       "28  negativo         564  \n",
       "22  negativo          57  \n",
       "10  negativo          42  \n",
       "20  negativo          39  \n",
       "11  negativo          35  "
      ]
     },
     "execution_count": 19,
     "metadata": {},
     "output_type": "execute_result"
    }
   ],
   "source": [
    "results.head()"
   ]
  },
  {
   "cell_type": "code",
   "execution_count": 21,
   "id": "559bf601-c6f8-4e59-b794-5b1e42ba203c",
   "metadata": {},
   "outputs": [
    {
     "data": {
      "image/png": "[encoded data removed]",
      "text/plain": [
       "<Figure size 1200x600 with 1 Axes>"
      ]
     },
     "metadata": {},
     "output_type": "display_data"
    }
   ],
   "source": [
    "palette = {\"positivo\": \"#26b476\", \"negativo\": \"#FF9B71\"}\n",
    "\n",
    "plt.figure(figsize=(12, 6))\n",
    "sns.barplot(data=results, x=\"fcp\", y=\"diferencia\", hue=\"diff_sign\", palette=palette)\n",
    "plt.title(\"Diferencia niños Actual vs. Óptimo\", fontsize=16)\n",
    "plt.xticks(rotation=45, fontsize=10)\n",
    "plt.yscale(\"log\")\n",
    "plt.legend(title='Diferencia', loc='upper center',\n",
    "           ncol=2, shadow=True, frameon=True)\n",
    "plt.tight_layout()\n",
    "plt.show()"
   ]
  },
  {
   "cell_type": "code",
   "execution_count": null,
   "id": "612f02a4-e374-4477-b1fe-ffccc396c5fa",
   "metadata": {},
   "outputs": [],
   "source": []
  }
 ],
 "metadata": {
  "kernelspec": {
   "display_name": "Python 3 (ipykernel)",
   "language": "python",
   "name": "python3"
  },
  "language_info": {
   "codemirror_mode": {
    "name": "ipython",
    "version": 3
   },
   "file_extension": ".py",
   "mimetype": "text/x-python",
   "name": "python",
   "nbconvert_exporter": "python",
   "pygments_lexer": "ipython3",
   "version": "3.10.16"
  }
 },
 "nbformat": 4,
 "nbformat_minor": 5
}
